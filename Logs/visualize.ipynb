{
 "cells": [
  {
   "cell_type": "code",
   "execution_count": 1,
   "metadata": {},
   "outputs": [
    {
     "name": "stdout",
     "output_type": "stream",
     "text": [
      "\u001b[33mDEPRECATION: Configuring installation scheme with distutils config files is deprecated and will no longer work in the near future. If you are using a Homebrew or Linuxbrew Python, please see discussion at https://github.com/Homebrew/homebrew-core/issues/76621\u001b[0m\u001b[33m\n",
      "\u001b[0mRequirement already satisfied: tensorboard in /usr/local/lib/python3.8/site-packages (2.3.0)\n",
      "Requirement already satisfied: pandas in /usr/local/lib/python3.8/site-packages (1.1.4)\n",
      "Requirement already satisfied: numpy>=1.12.0 in /usr/local/lib/python3.8/site-packages (from tensorboard) (1.22.2)\n",
      "Requirement already satisfied: six>=1.10.0 in /usr/local/lib/python3.8/site-packages (from tensorboard) (1.15.0)\n",
      "Requirement already satisfied: absl-py>=0.4 in /usr/local/lib/python3.8/site-packages (from tensorboard) (0.10.0)\n",
      "Requirement already satisfied: protobuf>=3.6.0 in /usr/local/lib/python3.8/site-packages (from tensorboard) (3.13.0)\n",
      "Requirement already satisfied: requests<3,>=2.21.0 in /usr/local/lib/python3.8/site-packages (from tensorboard) (2.24.0)\n",
      "Requirement already satisfied: google-auth-oauthlib<0.5,>=0.4.1 in /usr/local/lib/python3.8/site-packages (from tensorboard) (0.4.1)\n",
      "Requirement already satisfied: google-auth<2,>=1.6.3 in /usr/local/lib/python3.8/site-packages (from tensorboard) (1.22.1)\n",
      "Requirement already satisfied: werkzeug>=0.11.15 in /usr/local/lib/python3.8/site-packages (from tensorboard) (1.0.1)\n",
      "Requirement already satisfied: wheel>=0.26 in /usr/local/lib/python3.8/site-packages (from tensorboard) (0.37.1)\n",
      "Requirement already satisfied: tensorboard-plugin-wit>=1.6.0 in /usr/local/lib/python3.8/site-packages (from tensorboard) (1.7.0)\n",
      "Requirement already satisfied: grpcio>=1.24.3 in /usr/local/lib/python3.8/site-packages (from tensorboard) (1.32.0)\n",
      "Requirement already satisfied: markdown>=2.6.8 in /usr/local/lib/python3.8/site-packages (from tensorboard) (3.3.1)\n",
      "Requirement already satisfied: setuptools>=41.0.0 in /usr/local/lib/python3.8/site-packages (from tensorboard) (60.10.0)\n",
      "Requirement already satisfied: pytz>=2017.2 in /usr/local/lib/python3.8/site-packages (from pandas) (2020.1)\n",
      "Requirement already satisfied: python-dateutil>=2.7.3 in /usr/local/lib/python3.8/site-packages (from pandas) (2.8.1)\n",
      "Requirement already satisfied: cachetools<5.0,>=2.0.0 in /usr/local/lib/python3.8/site-packages (from google-auth<2,>=1.6.3->tensorboard) (4.1.1)\n",
      "Requirement already satisfied: pyasn1-modules>=0.2.1 in /usr/local/lib/python3.8/site-packages (from google-auth<2,>=1.6.3->tensorboard) (0.2.8)\n",
      "Requirement already satisfied: rsa<5,>=3.1.4 in /usr/local/lib/python3.8/site-packages (from google-auth<2,>=1.6.3->tensorboard) (4.6)\n",
      "Requirement already satisfied: requests-oauthlib>=0.7.0 in /usr/local/lib/python3.8/site-packages (from google-auth-oauthlib<0.5,>=0.4.1->tensorboard) (1.3.0)\n",
      "Requirement already satisfied: chardet<4,>=3.0.2 in /usr/local/lib/python3.8/site-packages (from requests<3,>=2.21.0->tensorboard) (3.0.4)\n",
      "Requirement already satisfied: idna<3,>=2.5 in /usr/local/lib/python3.8/site-packages (from requests<3,>=2.21.0->tensorboard) (2.10)\n",
      "Requirement already satisfied: certifi>=2017.4.17 in /usr/local/lib/python3.8/site-packages (from requests<3,>=2.21.0->tensorboard) (2020.6.20)\n",
      "Requirement already satisfied: urllib3!=1.25.0,!=1.25.1,<1.26,>=1.21.1 in /usr/local/lib/python3.8/site-packages (from requests<3,>=2.21.0->tensorboard) (1.25.10)\n",
      "Requirement already satisfied: pyasn1<0.5.0,>=0.4.6 in /usr/local/lib/python3.8/site-packages (from pyasn1-modules>=0.2.1->google-auth<2,>=1.6.3->tensorboard) (0.4.8)\n",
      "Requirement already satisfied: oauthlib>=3.0.0 in /usr/local/lib/python3.8/site-packages (from requests-oauthlib>=0.7.0->google-auth-oauthlib<0.5,>=0.4.1->tensorboard) (3.1.0)\n",
      "\u001b[33mDEPRECATION: Configuring installation scheme with distutils config files is deprecated and will no longer work in the near future. If you are using a Homebrew or Linuxbrew Python, please see discussion at https://github.com/Homebrew/homebrew-core/issues/76621\u001b[0m\u001b[33m\n",
      "\u001b[0mNote: you may need to restart the kernel to use updated packages.\n",
      "\u001b[33mDEPRECATION: Configuring installation scheme with distutils config files is deprecated and will no longer work in the near future. If you are using a Homebrew or Linuxbrew Python, please see discussion at https://github.com/Homebrew/homebrew-core/issues/76621\u001b[0m\u001b[33m\n",
      "\u001b[0mRequirement already satisfied: matplotlib in /usr/local/lib/python3.8/site-packages (3.3.3)\n",
      "Requirement already satisfied: seaborn in /usr/local/lib/python3.8/site-packages (0.11.1)\n",
      "Requirement already satisfied: pyparsing!=2.0.4,!=2.1.2,!=2.1.6,>=2.0.3 in /usr/local/lib/python3.8/site-packages (from matplotlib) (2.4.7)\n",
      "Requirement already satisfied: cycler>=0.10 in /usr/local/lib/python3.8/site-packages (from matplotlib) (0.10.0)\n",
      "Requirement already satisfied: python-dateutil>=2.1 in /usr/local/lib/python3.8/site-packages (from matplotlib) (2.8.1)\n",
      "Requirement already satisfied: numpy>=1.15 in /usr/local/lib/python3.8/site-packages (from matplotlib) (1.22.2)\n",
      "Requirement already satisfied: kiwisolver>=1.0.1 in /usr/local/lib/python3.8/site-packages (from matplotlib) (1.3.1)\n",
      "Requirement already satisfied: pillow>=6.2.0 in /usr/local/lib/python3.8/site-packages (from matplotlib) (9.0.1)\n",
      "Requirement already satisfied: pandas>=0.23 in /usr/local/lib/python3.8/site-packages (from seaborn) (1.1.4)\n",
      "Requirement already satisfied: scipy>=1.0 in /usr/local/lib/python3.8/site-packages (from seaborn) (1.7.3)\n",
      "Requirement already satisfied: six in /usr/local/lib/python3.8/site-packages (from cycler>=0.10->matplotlib) (1.15.0)\n",
      "Requirement already satisfied: pytz>=2017.2 in /usr/local/lib/python3.8/site-packages (from pandas>=0.23->seaborn) (2020.1)\n",
      "\u001b[33mDEPRECATION: Configuring installation scheme with distutils config files is deprecated and will no longer work in the near future. If you are using a Homebrew or Linuxbrew Python, please see discussion at https://github.com/Homebrew/homebrew-core/issues/76621\u001b[0m\u001b[33m\n",
      "\u001b[0mNote: you may need to restart the kernel to use updated packages.\n"
     ]
    }
   ],
   "source": [
    "%pip install tensorboard pandas\n",
    "%pip install matplotlib seaborn"
   ]
  },
  {
   "cell_type": "code",
   "execution_count": 2,
   "metadata": {},
   "outputs": [],
   "source": [
    "from packaging import version\n",
    "\n",
    "import pandas as pd\n",
    "from matplotlib import pyplot as plt\n",
    "import seaborn as sns\n",
    "from scipy import stats\n",
    "import tensorboard as tb"
   ]
  },
  {
   "cell_type": "code",
   "execution_count": 3,
   "metadata": {},
   "outputs": [
    {
     "name": "stdout",
     "output_type": "stream",
     "text": [
      "TensorBoard version:  2.3.0\n"
     ]
    }
   ],
   "source": [
    "major_ver, minor_ver, _ = version.parse(tb.__version__).release\n",
    "assert major_ver >= 2 and minor_ver >= 3, \\\n",
    "    \"This notebook requires TensorBoard 2.3 or later.\"\n",
    "print(\"TensorBoard version: \", tb.__version__)"
   ]
  },
  {
   "cell_type": "code",
   "execution_count": 69,
   "metadata": {},
   "outputs": [
    {
     "data": {
      "text/plain": [
       "<tensorboard.data.experimental.experiment_from_dev.ExperimentFromDev at 0x127a607c0>"
      ]
     },
     "execution_count": 69,
     "metadata": {},
     "output_type": "execute_result"
    }
   ],
   "source": [
    "experiment_id = \"l7RyaOkxRxC7TxzJZDIOEA\"\n",
    "experiment = tb.data.experimental.ExperimentFromDev(experiment_id)\n",
    "experiment"
   ]
  },
  {
   "cell_type": "code",
   "execution_count": 42,
   "metadata": {},
   "outputs": [
    {
     "name": "stdout",
     "output_type": "stream",
     "text": [
      "Runs ['BipedalWalker/Baseline-15skills-seed0'\n",
      " 'BipedalWalker/Baseline-15skills-seed1'\n",
      " 'BipedalWalker/Baseline-15skills-seed2' 'BipedalWalker/Diverse1-1k-seed0'\n",
      " 'BipedalWalker/Diverse1-1k-seed1' 'BipedalWalker/Diverse1-1k-seed2'\n",
      " 'BipedalWalker/Diverse1-2k-seed0'\n",
      " 'BipedalWalker/Diverse2-0.05thresh-1k-seed0'\n",
      " 'BipedalWalker/Diverse2-0.05thresh-1k-seed1'\n",
      " 'BipedalWalker/Diverse2-0.05thresh-1k-seed2'\n",
      " 'BipedalWalker/Naive-1k-seed0' 'BipedalWalker/Naive-1k-seed1'\n",
      " 'BipedalWalker/Naive-1k-seed2' 'BipedalWalker/Reward-1k-seed0'\n",
      " 'BipedalWalker/Reward-1k-seed1' 'BipedalWalker/Reward-1k-seed2'\n",
      " 'Hopper/2022-04-09-15-36-32' 'Hopper/2022-04-09-15-36-45'\n",
      " 'Hopper/2022-04-09-15-37-19' 'Hopper/2022-04-09-15-37-55'\n",
      " 'Hopper/2022-04-09-15-38-13' 'Hopper/2022-04-09-15-40-37'\n",
      " 'Hopper/2022-04-17-23-40-10' 'Hopper/2022-04-17-23-48-15'\n",
      " 'Hopper/2022-04-18-00-20-05' 'Hopper/2022-04-18-00-25-51'\n",
      " 'Hopper/2022-04-18-00-28-18' 'Hopper/2022-04-18-00-39-31'\n",
      " 'Hopper/2022-04-18-00-52-49' 'Hopper/2022-04-18-01-11-06'\n",
      " 'Hopper/2022-04-18-01-14-54' 'Hopper/2022-04-18-22-46-12'\n",
      " 'Hopper/2022-04-18-23-17-52' 'Hopper/2022-04-18-23-18-19'\n",
      " 'Hopper/2022-04-25-18-17-51' 'Hopper/2022-04-30-20-55-29'\n",
      " 'Hopper/Baseline-15skills-seed0' 'Hopper/Baseline-15skills-seed1'\n",
      " 'Hopper/Baseline-15skills-seed2' 'Hopper/Diverse1-0.3thresh-10window'\n",
      " 'Hopper/Diverse1-0.5thresh-10window'\n",
      " 'Hopper/Diverse1-0.5thresh-10window-1incre'\n",
      " 'Hopper/Diverse1-0.5thresh-5window'\n",
      " 'Hopper/Diverse1-0.7thresh-10w-1k-seed0'\n",
      " 'Hopper/Diverse1-0.7thresh-10w-1k-seed1'\n",
      " 'Hopper/Diverse1-0.7thresh-10w-1k-seed2'\n",
      " 'Hopper/Diverse1-0.7thresh-10w-2k-seed0'\n",
      " 'Hopper/Diverse1-0.7thresh-10w-2k-seed1'\n",
      " 'Hopper/Diverse1-0.7thresh-10w-2k-seed2'\n",
      " 'Hopper/Diverse1-0.7thresh-10window-1incre'\n",
      " 'Hopper/Diverse1-0.7thresh-10window-2incre'\n",
      " 'Hopper/Diverse2-0.05thresh-1k-seed0'\n",
      " 'Hopper/Diverse2-0.05thresh-1k-seed1'\n",
      " 'Hopper/Diverse2-0.05thresh-1k-seed2' 'Hopper/Naive-1k-seed0'\n",
      " 'Hopper/Naive-1k-seed1' 'Hopper/Naive-1k-seed2' 'Hopper/Reward-1k-seed0'\n",
      " 'Hopper/Reward-1k-seed1' 'Hopper/Reward-1k-seed2' 'Hopper/Reward-test-k1'\n",
      " 'Hopper/Reward-test-k2' 'Hopper/Reward-test-k2decay'\n",
      " 'MountainCarContinuous/2022-05-02-12-08-29']\n",
      "Tags ['Cumulative runtime' 'Diverse1 episode diversity reward'\n",
      " 'Episode Diverse2 total' 'Episode duration' 'Episode reward'\n",
      " 'Max episode reward' 'Number of skills' 'Running logq(z|s)'\n",
      " 'Episode Diverse2 avg']\n"
     ]
    }
   ],
   "source": [
    "print('Runs', df[\"run\"].unique())\n",
    "print('Tags', df[\"tag\"].unique())"
   ]
  },
  {
   "cell_type": "code",
   "execution_count": 53,
   "metadata": {},
   "outputs": [
    {
     "data": {
      "text/html": [
       "<div>\n",
       "<style scoped>\n",
       "    .dataframe tbody tr th:only-of-type {\n",
       "        vertical-align: middle;\n",
       "    }\n",
       "\n",
       "    .dataframe tbody tr th {\n",
       "        vertical-align: top;\n",
       "    }\n",
       "\n",
       "    .dataframe thead th {\n",
       "        text-align: right;\n",
       "    }\n",
       "</style>\n",
       "<table border=\"1\" class=\"dataframe\">\n",
       "  <thead>\n",
       "    <tr style=\"text-align: right;\">\n",
       "      <th></th>\n",
       "      <th>run</th>\n",
       "      <th>tag</th>\n",
       "      <th>step</th>\n",
       "      <th>value</th>\n",
       "    </tr>\n",
       "  </thead>\n",
       "  <tbody>\n",
       "    <tr>\n",
       "      <th>90492</th>\n",
       "      <td>Hopper/Diverse2-0.05thresh-1k-seed0</td>\n",
       "      <td>Cumulative runtime</td>\n",
       "      <td>1</td>\n",
       "      <td>3.473391</td>\n",
       "    </tr>\n",
       "    <tr>\n",
       "      <th>90493</th>\n",
       "      <td>Hopper/Diverse2-0.05thresh-1k-seed0</td>\n",
       "      <td>Cumulative runtime</td>\n",
       "      <td>2</td>\n",
       "      <td>3.497717</td>\n",
       "    </tr>\n",
       "    <tr>\n",
       "      <th>90494</th>\n",
       "      <td>Hopper/Diverse2-0.05thresh-1k-seed0</td>\n",
       "      <td>Cumulative runtime</td>\n",
       "      <td>3</td>\n",
       "      <td>3.516977</td>\n",
       "    </tr>\n",
       "    <tr>\n",
       "      <th>90495</th>\n",
       "      <td>Hopper/Diverse2-0.05thresh-1k-seed0</td>\n",
       "      <td>Cumulative runtime</td>\n",
       "      <td>4</td>\n",
       "      <td>3.536865</td>\n",
       "    </tr>\n",
       "    <tr>\n",
       "      <th>90496</th>\n",
       "      <td>Hopper/Diverse2-0.05thresh-1k-seed0</td>\n",
       "      <td>Cumulative runtime</td>\n",
       "      <td>5</td>\n",
       "      <td>3.558554</td>\n",
       "    </tr>\n",
       "    <tr>\n",
       "      <th>...</th>\n",
       "      <td>...</td>\n",
       "      <td>...</td>\n",
       "      <td>...</td>\n",
       "      <td>...</td>\n",
       "    </tr>\n",
       "    <tr>\n",
       "      <th>97687</th>\n",
       "      <td>Hopper/Diverse2-0.05thresh-1k-seed2</td>\n",
       "      <td>Running logq(z|s)</td>\n",
       "      <td>296</td>\n",
       "      <td>-0.155890</td>\n",
       "    </tr>\n",
       "    <tr>\n",
       "      <th>97688</th>\n",
       "      <td>Hopper/Diverse2-0.05thresh-1k-seed2</td>\n",
       "      <td>Running logq(z|s)</td>\n",
       "      <td>297</td>\n",
       "      <td>-0.155691</td>\n",
       "    </tr>\n",
       "    <tr>\n",
       "      <th>97689</th>\n",
       "      <td>Hopper/Diverse2-0.05thresh-1k-seed2</td>\n",
       "      <td>Running logq(z|s)</td>\n",
       "      <td>298</td>\n",
       "      <td>-0.155545</td>\n",
       "    </tr>\n",
       "    <tr>\n",
       "      <th>97690</th>\n",
       "      <td>Hopper/Diverse2-0.05thresh-1k-seed2</td>\n",
       "      <td>Running logq(z|s)</td>\n",
       "      <td>299</td>\n",
       "      <td>-0.155395</td>\n",
       "    </tr>\n",
       "    <tr>\n",
       "      <th>97691</th>\n",
       "      <td>Hopper/Diverse2-0.05thresh-1k-seed2</td>\n",
       "      <td>Running logq(z|s)</td>\n",
       "      <td>300</td>\n",
       "      <td>-0.155164</td>\n",
       "    </tr>\n",
       "  </tbody>\n",
       "</table>\n",
       "<p>7200 rows × 4 columns</p>\n",
       "</div>"
      ],
      "text/plain": [
       "                                       run                 tag  step     value\n",
       "90492  Hopper/Diverse2-0.05thresh-1k-seed0  Cumulative runtime     1  3.473391\n",
       "90493  Hopper/Diverse2-0.05thresh-1k-seed0  Cumulative runtime     2  3.497717\n",
       "90494  Hopper/Diverse2-0.05thresh-1k-seed0  Cumulative runtime     3  3.516977\n",
       "90495  Hopper/Diverse2-0.05thresh-1k-seed0  Cumulative runtime     4  3.536865\n",
       "90496  Hopper/Diverse2-0.05thresh-1k-seed0  Cumulative runtime     5  3.558554\n",
       "...                                    ...                 ...   ...       ...\n",
       "97687  Hopper/Diverse2-0.05thresh-1k-seed2   Running logq(z|s)   296 -0.155890\n",
       "97688  Hopper/Diverse2-0.05thresh-1k-seed2   Running logq(z|s)   297 -0.155691\n",
       "97689  Hopper/Diverse2-0.05thresh-1k-seed2   Running logq(z|s)   298 -0.155545\n",
       "97690  Hopper/Diverse2-0.05thresh-1k-seed2   Running logq(z|s)   299 -0.155395\n",
       "97691  Hopper/Diverse2-0.05thresh-1k-seed2   Running logq(z|s)   300 -0.155164\n",
       "\n",
       "[7200 rows x 4 columns]"
      ]
     },
     "execution_count": 53,
     "metadata": {},
     "output_type": "execute_result"
    }
   ],
   "source": [
    "df_Hopper = df[df.run.str.startswith(\"Hopper/Diverse2\")]\n",
    "df_Hopper"
   ]
  },
  {
   "cell_type": "code",
   "execution_count": 54,
   "metadata": {},
   "outputs": [],
   "source": [
    "df_Hopper.to_csv('Hopper_diverse2.csv')"
   ]
  },
  {
   "cell_type": "code",
   "execution_count": 50,
   "metadata": {},
   "outputs": [
    {
     "name": "stdout",
     "output_type": "stream",
     "text": [
      "Runs ['Hopper/Diverse1-0.7thresh-10w-1k-seed0'\n",
      " 'Hopper/Diverse1-0.7thresh-10w-1k-seed1'\n",
      " 'Hopper/Diverse1-0.7thresh-10w-1k-seed2'\n",
      " 'Hopper/Diverse1-0.7thresh-10w-2k-seed0'\n",
      " 'Hopper/Diverse1-0.7thresh-10w-2k-seed1'\n",
      " 'Hopper/Diverse1-0.7thresh-10w-2k-seed2'\n",
      " 'Hopper/Diverse1-0.7thresh-10window-1incre'\n",
      " 'Hopper/Diverse1-0.7thresh-10window-2incre']\n",
      "Tags ['Cumulative runtime' 'Diverse1 episode diversity reward'\n",
      " 'Episode Diverse2 total' 'Episode duration' 'Episode reward'\n",
      " 'Max episode reward' 'Number of skills' 'Running logq(z|s)']\n"
     ]
    },
    {
     "data": {
      "text/plain": [
       "71292       Diverse1-0.7thresh-10w-1k-seed0\n",
       "71293       Diverse1-0.7thresh-10w-1k-seed0\n",
       "71294       Diverse1-0.7thresh-10w-1k-seed0\n",
       "71295       Diverse1-0.7thresh-10w-1k-seed0\n",
       "71296       Diverse1-0.7thresh-10w-1k-seed0\n",
       "                        ...                \n",
       "90487    Diverse1-0.7thresh-10window-2incre\n",
       "90488    Diverse1-0.7thresh-10window-2incre\n",
       "90489    Diverse1-0.7thresh-10window-2incre\n",
       "90490    Diverse1-0.7thresh-10window-2incre\n",
       "90491    Diverse1-0.7thresh-10window-2incre\n",
       "Name: run, Length: 19200, dtype: object"
      ]
     },
     "execution_count": 50,
     "metadata": {},
     "output_type": "execute_result"
    }
   ],
   "source": [
    "print('Runs', df_Hopper[\"run\"].unique())\n",
    "print('Tags', df_Hopper[\"tag\"].unique())\n",
    "runs = df_Hopper.run.apply(lambda run: run.split(\"/\")[1])\n",
    "runs"
   ]
  },
  {
   "cell_type": "code",
   "execution_count": 55,
   "metadata": {},
   "outputs": [],
   "source": [
    "# plt.figure(figsize=(16, 6))\n",
    "# sns.lineplot(data=df_Hopper, x=\"step\", y=\"Max episode reward\",\n",
    "#              hue=runs).set_title(\"Max episode reward\")"
   ]
  },
  {
   "cell_type": "code",
   "execution_count": 64,
   "metadata": {},
   "outputs": [
    {
     "name": "stdout",
     "output_type": "stream",
     "text": [
      "Index(['step', 'base-maxreward', 'naive-maxreward', 'envinformed-maxreward',\n",
      "       'diverse1-maxreward', 'diverse2-maxreward', 'base-logq', 'naive-logq',\n",
      "       'envinformed-logq', 'diverse1-logq', 'diverse2-logq', 'base-numskills',\n",
      "       'naive-numskills', 'envinformed-numskills', 'diverse1-numskills',\n",
      "       'diverse2-numskills'],\n",
      "      dtype='object')\n"
     ]
    },
    {
     "data": {
      "text/html": [
       "<div>\n",
       "<style scoped>\n",
       "    .dataframe tbody tr th:only-of-type {\n",
       "        vertical-align: middle;\n",
       "    }\n",
       "\n",
       "    .dataframe tbody tr th {\n",
       "        vertical-align: top;\n",
       "    }\n",
       "\n",
       "    .dataframe thead th {\n",
       "        text-align: right;\n",
       "    }\n",
       "</style>\n",
       "<table border=\"1\" class=\"dataframe\">\n",
       "  <thead>\n",
       "    <tr style=\"text-align: right;\">\n",
       "      <th></th>\n",
       "      <th>step</th>\n",
       "      <th>base-maxreward</th>\n",
       "      <th>naive-maxreward</th>\n",
       "      <th>envinformed-maxreward</th>\n",
       "      <th>diverse1-maxreward</th>\n",
       "      <th>diverse2-maxreward</th>\n",
       "    </tr>\n",
       "  </thead>\n",
       "  <tbody>\n",
       "    <tr>\n",
       "      <th>0</th>\n",
       "      <td>1</td>\n",
       "      <td>9.415097</td>\n",
       "      <td>10.791071</td>\n",
       "      <td>9.090001</td>\n",
       "      <td>9.090001</td>\n",
       "      <td>4.215712</td>\n",
       "    </tr>\n",
       "    <tr>\n",
       "      <th>1</th>\n",
       "      <td>2</td>\n",
       "      <td>12.927636</td>\n",
       "      <td>12.274449</td>\n",
       "      <td>10.074302</td>\n",
       "      <td>10.074302</td>\n",
       "      <td>6.599809</td>\n",
       "    </tr>\n",
       "    <tr>\n",
       "      <th>2</th>\n",
       "      <td>3</td>\n",
       "      <td>12.927636</td>\n",
       "      <td>12.274449</td>\n",
       "      <td>10.074302</td>\n",
       "      <td>10.074302</td>\n",
       "      <td>37.174698</td>\n",
       "    </tr>\n",
       "    <tr>\n",
       "      <th>3</th>\n",
       "      <td>4</td>\n",
       "      <td>12.927636</td>\n",
       "      <td>12.274449</td>\n",
       "      <td>10.074302</td>\n",
       "      <td>10.074302</td>\n",
       "      <td>37.558756</td>\n",
       "    </tr>\n",
       "    <tr>\n",
       "      <th>4</th>\n",
       "      <td>5</td>\n",
       "      <td>12.927636</td>\n",
       "      <td>12.274449</td>\n",
       "      <td>10.074302</td>\n",
       "      <td>10.074302</td>\n",
       "      <td>37.558756</td>\n",
       "    </tr>\n",
       "    <tr>\n",
       "      <th>...</th>\n",
       "      <td>...</td>\n",
       "      <td>...</td>\n",
       "      <td>...</td>\n",
       "      <td>...</td>\n",
       "      <td>...</td>\n",
       "      <td>...</td>\n",
       "    </tr>\n",
       "    <tr>\n",
       "      <th>295</th>\n",
       "      <td>296</td>\n",
       "      <td>1056.060810</td>\n",
       "      <td>1131.836343</td>\n",
       "      <td>1078.558717</td>\n",
       "      <td>1088.004393</td>\n",
       "      <td>1044.105407</td>\n",
       "    </tr>\n",
       "    <tr>\n",
       "      <th>296</th>\n",
       "      <td>297</td>\n",
       "      <td>1056.060810</td>\n",
       "      <td>1131.836343</td>\n",
       "      <td>1078.558717</td>\n",
       "      <td>1088.004393</td>\n",
       "      <td>1233.584657</td>\n",
       "    </tr>\n",
       "    <tr>\n",
       "      <th>297</th>\n",
       "      <td>298</td>\n",
       "      <td>1056.060810</td>\n",
       "      <td>1131.836343</td>\n",
       "      <td>1078.558717</td>\n",
       "      <td>1088.004393</td>\n",
       "      <td>1233.584657</td>\n",
       "    </tr>\n",
       "    <tr>\n",
       "      <th>298</th>\n",
       "      <td>299</td>\n",
       "      <td>1079.342103</td>\n",
       "      <td>1131.836343</td>\n",
       "      <td>1078.558717</td>\n",
       "      <td>1088.004393</td>\n",
       "      <td>1233.584657</td>\n",
       "    </tr>\n",
       "    <tr>\n",
       "      <th>299</th>\n",
       "      <td>300</td>\n",
       "      <td>1079.342103</td>\n",
       "      <td>1131.836343</td>\n",
       "      <td>1078.558717</td>\n",
       "      <td>1088.004393</td>\n",
       "      <td>1233.584657</td>\n",
       "    </tr>\n",
       "  </tbody>\n",
       "</table>\n",
       "<p>300 rows × 6 columns</p>\n",
       "</div>"
      ],
      "text/plain": [
       "     step  base-maxreward  naive-maxreward  envinformed-maxreward  \\\n",
       "0       1        9.415097        10.791071               9.090001   \n",
       "1       2       12.927636        12.274449              10.074302   \n",
       "2       3       12.927636        12.274449              10.074302   \n",
       "3       4       12.927636        12.274449              10.074302   \n",
       "4       5       12.927636        12.274449              10.074302   \n",
       "..    ...             ...              ...                    ...   \n",
       "295   296     1056.060810      1131.836343            1078.558717   \n",
       "296   297     1056.060810      1131.836343            1078.558717   \n",
       "297   298     1056.060810      1131.836343            1078.558717   \n",
       "298   299     1079.342103      1131.836343            1078.558717   \n",
       "299   300     1079.342103      1131.836343            1078.558717   \n",
       "\n",
       "     diverse1-maxreward  diverse2-maxreward  \n",
       "0              9.090001            4.215712  \n",
       "1             10.074302            6.599809  \n",
       "2             10.074302           37.174698  \n",
       "3             10.074302           37.558756  \n",
       "4             10.074302           37.558756  \n",
       "..                  ...                 ...  \n",
       "295         1088.004393         1044.105407  \n",
       "296         1088.004393         1233.584657  \n",
       "297         1088.004393         1233.584657  \n",
       "298         1088.004393         1233.584657  \n",
       "299         1088.004393         1233.584657  \n",
       "\n",
       "[300 rows x 6 columns]"
      ]
     },
     "execution_count": 64,
     "metadata": {},
     "output_type": "execute_result"
    }
   ],
   "source": [
    "agg_df = pd.read_csv('Hopper_results.csv')\n",
    "print(agg_df.columns)\n",
    "agg_df = agg_df[['step', 'base-maxreward', 'naive-maxreward', 'envinformed-maxreward',\n",
    "       'diverse1-maxreward', 'diverse2-maxreward']]\n",
    "agg_df"
   ]
  },
  {
   "cell_type": "code",
   "execution_count": 66,
   "metadata": {},
   "outputs": [
    {
     "data": {
      "text/plain": [
       "Text(0.5, 1.0, 'Max episode reward')"
      ]
     },
     "execution_count": 66,
     "metadata": {},
     "output_type": "execute_result"
    },
    {
     "data": {
      "image/png": "[encoded data removed]",
      "text/plain": [
       "<Figure size 432x288 with 1 Axes>"
      ]
     },
     "metadata": {
      "needs_background": "light"
     },
     "output_type": "display_data"
    }
   ],
   "source": [
    "sns.lineplot(data=agg_df).set_title(\"Max episode reward\")"
   ]
  }
 ],
 "metadata": {
  "kernelspec": {
   "display_name": "Python 3",
   "language": "python",
   "name": "python3"
  },
  "language_info": {
   "codemirror_mode": {
    "name": "ipython",
    "version": 3
   },
   "file_extension": ".py",
   "mimetype": "text/x-python",
   "name": "python",
   "nbconvert_exporter": "python",
   "pygments_lexer": "ipython3",
   "version": "3.8.13"
  }
 },
 "nbformat": 4,
 "nbformat_minor": 4
}
